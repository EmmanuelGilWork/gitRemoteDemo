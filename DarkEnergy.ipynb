{
 "cells": [
  {
   "cell_type": "markdown",
   "metadata": {},
   "source": [
    "#### Welcome to the Dark Energy worksheet. It's due March 5 @ 2pm."
   ]
  },
  {
   "cell_type": "markdown",
   "metadata": {},
   "source": [
    "#### Please upload to Blackboard the .ipynb file, containing your last name."
   ]
  },
  {
   "cell_type": "markdown",
   "metadata": {},
   "source": [
    "#### Original work statement: \n",
    "\n",
    "Please write your name here to indicate that your worksheet is the result of your own work, and you have not copied from sources without citing them (this is plagiarism and is not acceptable). Identical or very similar worksheet will share the credit.\n",
    "\n",
    "#### Your name: Emmanuel Gil"
   ]
  },
  {
   "cell_type": "markdown",
   "metadata": {},
   "source": [
    "The worksheet is organized as a series of tasks. You can edit this notebook directly by adding code (and comment) cells to perform these tasks. You will need to import packages, even if this is not explicitly requested.\n",
    "\n",
    "One function from a package that we haven't mentioned so far but you might need is scipy.integrate (numerical integration)."
   ]
  },
  {
   "cell_type": "markdown",
   "metadata": {
    "collapsed": true
   },
   "source": [
    "#### Task 1: import the data from the file sn_data.txt\n",
    "\n",
    "This data set contains three columns. \n",
    "\n",
    "The first one is the redshift of the supernovae. Redshift is a measure of the velocity at which supernovae are moving away from us. Redshift = 0 means no motion, increasing values represent increasing velocity. Redshift has no units.\n",
    "\n",
    "The second column is the distance of the supernovae, expressed in the units of Mpc (megaparsec). Mega = 1 Million; 1 parsec (pc) = 3.26 light years.\n",
    "\n",
    "The third column contains the error on the distance (let's call it sigma(d)), again expressed in Mpc."
   ]
  },
  {
   "cell_type": "code",
   "execution_count": 1,
   "metadata": {},
   "outputs": [],
   "source": [
    "import numpy as np\n",
    "import matplotlib.pyplot as plt\n",
    "Characteristics = np.genfromtxt('Data_ws2.dat',usecols = (0,1,2),skip_header=1)\n",
    "redshift = np.genfromtxt('Data_ws2.dat', usecols = 0, skip_header= 1)\n",
    "supern = np.genfromtxt('Data_ws2.dat', usecols = 1, skip_header = 1)\n",
    "sigma = np.genfromtxt('Data_ws2.dat',usecols = 2, skip_header = 1)"
   ]
  },
  {
   "cell_type": "markdown",
   "metadata": {},
   "source": [
    "#### Task 2: Make an errorbar plot of this data set.\n",
    "\n",
    "Place redshift (z) on the x axis, distance on the y axis, and sigma(d) as the error on the distance. Add labels to the axes and don't forget the units."
   ]
  },
  {
   "cell_type": "code",
   "execution_count": 2,
   "metadata": {},
   "outputs": [
    {
     "data": {
      "image/png": "[encoded data removed]",
      "text/plain": [
       "<Figure size 432x288 with 1 Axes>"
      ]
     },
     "metadata": {
      "needs_background": "light"
     },
     "output_type": "display_data"
    }
   ],
   "source": [
    "#Check if I should put MegaParsec(MPC) or pc\n",
    "x = redshift\n",
    "error_y = sigma\n",
    "y = supern\n",
    "\n",
    "plt.errorbar(x, y, yerr=error_y, fmt='*k', ecolor='blue', elinewidth=.7, capsize=0);\n",
    "plt.xlabel('Redshift');\n",
    "plt.ylabel('Distance(Mpc)');\n"
   ]
  },
  {
   "cell_type": "markdown",
   "metadata": {},
   "source": [
    "#### A few words on our model\n",
    "\n",
    "The plot that you just made just shows the data. Now what we want to do is to build different models for the distance of these supernovae, and then choose the model that works best.\n",
    "\n",
    "Our model for the distance (called \"Luminosity Distance\" by physicists) is a function of different parameters: \n",
    "\n",
    "- z (the redshift) is the independent variable; in other words, our model for the distance will return a distance for any redshift value.\n",
    "\n",
    "- Omegam is the percentage of matter in the Universe, and it's a number between 0 and 1;\n",
    "\n",
    "- OmegaDE is the percentage of Dark Energy in the Universe; we can assume that Omegam + OmegaDE = 1 (so the Universe only contains matter and dark energy), which simplifies our model a little bit, because we can write OmegaDE = 1 - Omegam;\n",
    "\n",
    "- H0 is the Hubble constant, which gives the current rate of expansion of the Universe; we will fix it in the beginning to be = 70 km/s/Mpc;\n",
    "\n",
    "- c is the speed of light in km/s; c = 2.99 x 10**5. This is a constant of nature so we won't need to change it.\n",
    "\n",
    "Here comes our model:"
   ]
  },
  {
   "cell_type": "markdown",
   "metadata": {},
   "source": [
    "\n",
    "\\begin{align}\n",
    "D_L(z,\\Omega_m, H_0, c) = \\,(1+z) \\frac{c}{H_0}\\int_0^z \\frac{dx}{\\sqrt{\\Omega_m(1+x)^3 + \\Omega_{DE}}} \n",
    "\\end{align}"
   ]
  },
  {
   "cell_type": "markdown",
   "metadata": {},
   "source": [
    "#### Task 3: Complete this function definition.\n",
    "\n",
    "Notes: \n",
    "\n",
    "1. Omega_DE is not a parameter of the function, so make sure you write your function as a function of Omega_m only.\n",
    "\n",
    "2. It might be easier to first define a function for the integrand\n",
    "       \n",
    "3. You might find useful to invoke the scipy.integrate.quad function of the scipy package and to look at the examples here\n",
    "       \n",
    "https://docs.scipy.org/doc/scipy-0.18.1/reference/tutorial/integrate.html\n",
    "\n",
    "       \n",
    "def LumDist(z, Omegam = 0.7, H0 = 70, ckms = 2.9979 $\\times 10^5$) :\n",
    "\n",
    "    ###write the function here\n"
   ]
  },
  {
   "cell_type": "code",
   "execution_count": 3,
   "metadata": {},
   "outputs": [],
   "source": [
    "import scipy.integrate as integrate\n",
    "def LumDist(redshift, Omega_m = 0.7, H0 = 70, ckms = 2.9979 * 10**5 ):\n",
    "    # to get OmegaDE we just use the logic that there are only 2 forms of matter in the universe\n",
    "    # So both OmegaM and OmegaDE should total to 1 so we can get the OmegaDE by just subtracting OmegaM from 1 :)\n",
    "    return((1+redshift)*(ckms/H0)* integrate.quad(lambda x: 1/np.sqrt(Omega_m*((1+x)**3)+(1-Omega_m)), 0, redshift)[0])\n",
    "    "
   ]
  },
  {
   "cell_type": "markdown",
   "metadata": {},
   "source": [
    "#### Task 4\n",
    "\n",
    "1. Answer the questions: What are the arguments of the LumDist function? Which ones have default values?\n",
    "\n",
    "2. Check that LumDist(1) ~ 5512 and LumDist(0.5) ~ 2522"
   ]
  },
  {
   "cell_type": "code",
   "execution_count": 4,
   "metadata": {},
   "outputs": [
    {
     "name": "stdout",
     "output_type": "stream",
     "text": [
      "LumDist(1): 5512.274175117096\n",
      "LumDist(0.5): 2521.9714288948917\n"
     ]
    }
   ],
   "source": [
    "#1 the arguments for the function LumDist are redshift, Omega_M, H0, and all of the arguments have default values except(redshift)\n",
    "#2\n",
    "print(\"LumDist(1):\",LumDist(1))\n",
    "print(\"LumDist(0.5):\",LumDist(0.5))"
   ]
  },
  {
   "cell_type": "markdown",
   "metadata": {},
   "source": [
    "#### Task 5\n",
    "\n",
    "Vectorize the function so we can give it a 1D array of redshifts as input. Check that it works by \n",
    "defining a numpy array as the first column of your supernova data and feeding it to your function."
   ]
  },
  {
   "cell_type": "code",
   "execution_count": 5,
   "metadata": {},
   "outputs": [
    {
     "data": {
      "text/plain": [
       "array([   43.02919451,    43.02919451,    43.02919451,    56.01606079,\n",
       "          56.01606079,    60.35295154,    60.35295154,    60.35295154,\n",
       "          64.69379657,    69.03858787,    69.03858787,    69.03858787,\n",
       "          69.03858787,    73.38731746,    73.38731746,    73.38731746,\n",
       "          73.38731746,    73.38731746,    77.73997739,    77.73997739,\n",
       "          82.09655971,    90.82145992,    99.561955  ,    99.561955  ,\n",
       "         103.938031  ,   108.31798223,   108.31798223,   112.70180089,\n",
       "         112.70180089,   112.70180089,   117.08947921,   121.48100945,\n",
       "         125.87638389,   125.87638389,   130.27559481,   134.67863454,\n",
       "         139.08549541,   143.49616977,   147.91065   ,   156.75099771,\n",
       "         156.75099771,   156.75099771,   165.60647795,   174.47703049,\n",
       "         187.81098886,   196.71896068,   201.17852427,   214.57943747,\n",
       "         219.05379162,   219.05379162,   228.01353083,   232.49890138,\n",
       "         245.97693024,   254.98047536,   268.51293919,   277.55259648,\n",
       "         313.85412763,   332.08985763,   350.38164591,   391.74089933,\n",
       "         451.96942242,   559.8989186 ,   790.50093057,   829.60560872,\n",
       "        1174.27427766,  1245.74111116,  1322.85600055,  1359.03151756,\n",
       "        1436.94652893,  1541.65465691,  1599.63466163,  1615.49464115,\n",
       "        1631.37469306,  1647.27472428,  1737.74786546,  1743.08934945,\n",
       "        1801.98683405,  1812.72307678,  1861.14014417,  1904.3190295 ,\n",
       "        1969.33350011,  2051.00991196,  2056.47091953,  2105.70843011,\n",
       "        2133.13090041,  2133.13090041,  2133.13090041,  2133.13090041,\n",
       "        2188.12053461,  2237.77430107,  2243.30083488,  2243.30083488,\n",
       "        2270.96165231,  2293.12392788,  2298.66914487,  2298.66914487,\n",
       "        2304.21621594,  2315.3159101 ,  2354.22286851,  2354.22286851,\n",
       "        2354.22286851,  2365.35563856,  2376.49570346,  2382.06846524,\n",
       "        2393.21943504,  2398.79763812,  2409.95946829,  2465.87646356,\n",
       "        2493.90184944,  2499.51223933,  2521.97142889,  2521.97142889,\n",
       "        2544.4587136 ,  2566.97394402,  2583.87861704,  2623.38331369,\n",
       "        2668.63436796,  2679.96414283,  2702.6439821 ,  2731.03164322,\n",
       "        2736.71420193,  2748.08432855,  2765.15200919,  2805.03458829,\n",
       "        2816.44444654,  2844.99776776,  2919.42650489,  2919.42650489,\n",
       "        2925.16307523,  2971.11313136,  2976.86404516,  2982.61654274,\n",
       "        2988.37062214,  3045.99798557,  3115.35663244,  3150.11919171,\n",
       "        3167.52110329,  3179.12998519,  3208.17870918,  3208.17870918,\n",
       "        3248.91021221,  3266.38903871,  3283.88127633,  3324.74838338,\n",
       "        3342.28498057,  3424.29629279,  3500.70307611,  3553.74105556,\n",
       "        3606.89301424,  3648.31148037,  3719.47178861,  3856.40885015,\n",
       "        3886.27141616,  3916.16702151,  3916.16702151,  4012.05289641,\n",
       "        4102.24635998,  4144.43480484,  4222.94846058,  4265.3123518 ,\n",
       "        4277.42745997,  4344.14843842,  4344.14843842,  4368.44727077,\n",
       "        4368.44727077,  4411.01691774,  4447.55220918,  4447.55220918,\n",
       "        4459.74023614,  4471.93304506,  4514.64539436,  4520.75190667,\n",
       "        4606.3667996 ,  4643.12909933,  4704.49227308,  4778.27958838,\n",
       "        4790.59341702,  4889.26643473,  4920.1605179 ,  5106.10314874,\n",
       "        5193.2103252 ,  5193.2103252 ,  5199.44028387,  5199.44028387,\n",
       "        5224.37074544,  5224.37074544,  5268.03981492,  5324.26152199,\n",
       "        5355.53239473,  5368.04802625,  5575.14950858,  5638.1255418 ,\n",
       "        5638.1255418 ,  5865.65938452,  6273.23442714,  6401.38059126,\n",
       "        6401.38059126,  6781.48930126,  6982.41484602,  6982.41484602,\n",
       "        7439.05212196,  7471.82055834,  7701.74980463,  7899.58534786,\n",
       "        8031.85416566, 10494.22052127])"
      ]
     },
     "execution_count": 5,
     "metadata": {},
     "output_type": "execute_result"
    }
   ],
   "source": [
    "#np.vectorize doesn't change LumDist so we have to set it to some other variable and use that as our vectorized function\n",
    "LumDistVect = np.vectorize(LumDist)\n",
    "#redshift is already an array so even if I did np.array on it, it would be the same.\n",
    "LumDistVect(redshift)"
   ]
  },
  {
   "cell_type": "markdown",
   "metadata": {},
   "source": [
    "#### Task 6\n",
    "\n",
    "Plot the data with error bars as before, and then the luminosity distance values for the supernovae predicted by these three models:\n",
    "    \n",
    "Model 1: Omega_m = 0 \n",
    "    \n",
    "Model 2: Omega_m = 0.3\n",
    "    \n",
    "Model 3: Omega_m = 1\n",
    "\n",
    "Make sure you add labels for all the models.\n",
    "    \n"
   ]
  },
  {
   "cell_type": "code",
   "execution_count": 46,
   "metadata": {},
   "outputs": [
    {
     "data": {
      "image/png": "[encoded data removed]",
      "text/plain": [
       "<Figure size 432x288 with 1 Axes>"
      ]
     },
     "metadata": {},
     "output_type": "display_data"
    }
   ],
   "source": [
    "#Find out how to make the subplots a bit bigger so that we can see the error bars a bit more clear for future!\n",
    "x = redshift\n",
    "error_y = sigma\n",
    "ymodone = LumDistVect(redshift, Omega_m = 0)\n",
    "#plt.subplot(3, 1, 1)\n",
    "plt.errorbar(x, ymodone,sigma, fmt='.b', ecolor='blue', elinewidth=.7, capsize=0, label ='Omega_m = 0');\n",
    "plt.title('LumDist predicted by Omega_m');\n",
    "plt.xlabel('Redshift');\n",
    "plt.ylabel('Distance(Mpc)');\n",
    "\n",
    "ymodtwo = LumDistVect(redshift, Omega_m = 0.3)\n",
    "#plt.subplot(3,1,2)\n",
    "plt.errorbar(x, ymodtwo,sigma, fmt='.r', ecolor='black', elinewidth=.7, capsize=0, label ='Omega_m = 0.3');\n",
    "plt.xlabel('Redshift');\n",
    "plt.ylabel('Distance(Mpc)');\n",
    "\n",
    "ymodthree = LumDistVect(redshift, Omega_m = 1)\n",
    "#plt.subplot(3,1,3)\n",
    "plt.errorbar(x, ymodthree,sigma, fmt='.k', ecolor='blue', elinewidth=.7, capsize=0, label ='Omega_m = 1');\n",
    "plt.xlabel('Redshift');\n",
    "plt.ylabel('Distance(Mpc)');\n",
    "#plt.tight_layout(); use this if using subplots to make whitespace inbetween plots and look nice\n",
    "plt.legend();\n",
    "plt.show();\n",
    "#not sure If I was supposed to do subplots here or put them all in 1 plot like this!"
   ]
  },
  {
   "cell_type": "markdown",
   "metadata": {
    "collapsed": true
   },
   "source": [
    "#### Task 7\n",
    "\n",
    "Answer the following questions:\n",
    "\n",
    "1) What are the Omega_DE values for the above models? Which model contains no Dark Energy at all?\n",
    "\n",
    "2) Just judging by eye, which model seems to be the best fit to the data and why?"
   ]
  },
  {
   "cell_type": "code",
   "execution_count": 7,
   "metadata": {},
   "outputs": [
    {
     "name": "stdout",
     "output_type": "stream",
     "text": [
      "Value of Omega_DE for model#1: 1\n",
      "Value of Omega_DE for model#2: 0.7\n",
      "Value of Omega_DE for model#3: 0\n"
     ]
    }
   ],
   "source": [
    "Omega_m = 0 \n",
    "Om_DEMod1 = (1-Omega_m)\n",
    "print('Value of Omega_DE for model#1:',Om_DEMod1)\n",
    "\n",
    "Omega_m = 0.3\n",
    "Om_DEMod2 = (1-Omega_m)\n",
    "print('Value of Omega_DE for model#2:',Om_DEMod2)\n",
    "\n",
    "Omega_m = 1\n",
    "Om_DEMod3 = (1-Omega_m)\n",
    "print('Value of Omega_DE for model#3:',Om_DEMod3)"
   ]
  },
  {
   "cell_type": "markdown",
   "metadata": {},
   "source": [
    "#### 1) Omega_DE values for above models(above cell ^) - The model that has no Omega_DE is model 3 because assuming that there is only matter and dark energy in the universe we set the sum of those values to 1 and so if the value of matter is 1 there is no dark energy\n",
    "#### 2) If I am just judging by eye it seems that the second model is the best fit to the data because almost a straight line!"
   ]
  },
  {
   "cell_type": "markdown",
   "metadata": {},
   "source": [
    "#### Task 8\n",
    "\n",
    "It is now time to define a proper function to judge whether these models are good fit to the data. This is done through the $\\chi^2$ function that we mentioned in the \"Fit a line\" worksheet.\n",
    "\n",
    "Complete the following function:\n",
    "\n",
    "def chi2(x,x_err,y): \n",
    "\n",
    "    Write a function that computes the chi2 between a vector containing measurements (x) and their experimental errors (x_err), with respect to a vector of model predictions y \n",
    "\n",
    "   "
   ]
  },
  {
   "cell_type": "code",
   "execution_count": 8,
   "metadata": {},
   "outputs": [],
   "source": [
    "modeldistances = LumDistVect(redshift)\n",
    "def chi2(x,y_err,y):\n",
    "    return np.sum(((x - y)**2)/y_err**2)"
   ]
  },
  {
   "cell_type": "markdown",
   "metadata": {},
   "source": [
    "#### Task 9\n",
    "\n",
    "Calculate the $\\chi^2$ of the model with Omega_m = 0.3. \n",
    "    \n",
    "(Hint: your \"y\" vector is the vector of luminosity distances for all the supernovae)"
   ]
  },
  {
   "cell_type": "code",
   "execution_count": 40,
   "metadata": {},
   "outputs": [
    {
     "data": {
      "text/plain": [
       "308.1221776880534"
      ]
     },
     "execution_count": 40,
     "metadata": {},
     "output_type": "execute_result"
    }
   ],
   "source": [
    "y = LumDistVect(supern)\n",
    "y\n",
    "chi2(LumDistVect(redshift,Omega_m = 0.3),sigma,supern)\n",
    "#print(y[:5])"
   ]
  },
  {
   "cell_type": "markdown",
   "metadata": {},
   "source": [
    "#### Task 10\n",
    "\n",
    "And now the magic begins!\n",
    "\n",
    "1. Calculate and save the $\\chi^2$ values for different models with values of Omega_m between 0 and 1, spaced every 0.05.\n",
    "\n",
    "2. Create a scatter plot that has the values of Omega_m on the x axis, and the value of the $\\chi^2$ on the y axis."
   ]
  },
  {
   "cell_type": "code",
   "execution_count": 26,
   "metadata": {},
   "outputs": [
    {
     "name": "stdout",
     "output_type": "stream",
     "text": [
      "The chi2 value is: 447.81951103787316 of Omega_m: 0.0\n",
      "\n",
      "The chi2 value is: 312.94109451568886 of Omega_m: 0.05\n",
      "\n",
      "The chi2 value is: 254.30626851002583 of Omega_m: 0.1\n",
      "\n",
      "The chi2 value is: 237.20959594170736 of Omega_m: 0.15000000000000002\n",
      "\n",
      "The chi2 value is: 245.73655415691104 of Omega_m: 0.2\n",
      "\n",
      "The chi2 value is: 271.14400377921044 of Omega_m: 0.25\n",
      "\n",
      "The chi2 value is: 308.1221776880535 of Omega_m: 0.30000000000000004\n",
      "\n",
      "The chi2 value is: 353.229126587261 of Omega_m: 0.35000000000000003\n",
      "\n",
      "The chi2 value is: 404.12843292427556 of Omega_m: 0.4\n",
      "\n",
      "The chi2 value is: 459.1788116487843 of Omega_m: 0.45\n",
      "\n",
      "The chi2 value is: 517.196501092469 of Omega_m: 0.5\n",
      "\n",
      "The chi2 value is: 577.3098622391346 of Omega_m: 0.55\n",
      "\n",
      "The chi2 value is: 638.8664253789287 of Omega_m: 0.6000000000000001\n",
      "\n",
      "The chi2 value is: 701.3713186402631 of Omega_m: 0.65\n",
      "\n",
      "The chi2 value is: 764.4452658976371 of Omega_m: 0.7000000000000001\n",
      "\n",
      "The chi2 value is: 827.7952149544703 of Omega_m: 0.75\n",
      "\n",
      "The chi2 value is: 891.1933582423247 of Omega_m: 0.8\n",
      "\n",
      "The chi2 value is: 954.4618712000116 of Omega_m: 0.8500000000000001\n",
      "\n",
      "The chi2 value is: 1017.461631373757 of Omega_m: 0.9\n",
      "\n",
      "The chi2 value is: 1080.0837620888192 of Omega_m: 0.9500000000000001\n",
      "\n",
      "The chi2 value is: 1142.2432142471703 of Omega_m: 1.0\n",
      "\n"
     ]
    }
   ],
   "source": [
    "#Do chi2 calculation with [0,1,0.05] step 0.05 \n",
    "#Make sure to plot the axis labels and legend\n",
    "Omega_mvec = np.arange(0.0,1.05,.05)\n",
    "#Omega_mvec\n",
    "chi2Omega_m = []\n",
    "for i in Omega_mvec:\n",
    "    Chi2Omeg = chi2(LumDistVect(redshift,i),sigma,supern)\n",
    "    chi2Omega_m.append(Chi2Omeg)\n",
    "    print(\"The chi2 value is:\",Chi2Omeg,\"of Omega_m:\",i)\n",
    "    print()\n",
    " "
   ]
  },
  {
   "cell_type": "code",
   "execution_count": 19,
   "metadata": {},
   "outputs": [
    {
     "data": {
      "image/png": "[encoded data removed]",
      "text/plain": [
       "<Figure size 432x288 with 1 Axes>"
      ]
     },
     "metadata": {},
     "output_type": "display_data"
    }
   ],
   "source": [
    "plt.style.use('seaborn-whitegrid')\n",
    "omg_omgchi2 = plt.scatter(Omega_mvec,chi2Omega_m,c='r')\n",
    "plt.title(\"Omega_m and Chi Squared of Omega_m\")\n",
    "plt.xlabel(\"Omega_m\")\n",
    "plt.ylabel(\"Chi Squared of OmegaM\");\n",
    "# Lol! it looks like a check mark I hope I get it correct or else that would be ironic :D"
   ]
  },
  {
   "cell_type": "markdown",
   "metadata": {},
   "source": [
    "#### Task 11\n",
    "\n",
    "Find the model with the lowest $\\chi^2$ and answer the questions:\n",
    "\n",
    "1. Which value of Omega_m corresponds to this model? \n",
    "\n",
    "2. Which value of Omega_DE corresponds to this model?\n",
    "\n",
    "3. Based on your answers, is a non-zero value of Dark Energy supported by the data?"
   ]
  },
  {
   "cell_type": "code",
   "execution_count": 12,
   "metadata": {},
   "outputs": [
    {
     "name": "stdout",
     "output_type": "stream",
     "text": [
      "The index of the model with the lowest chi2: 3\n",
      "The value of Omega_m that corresponds with the index: 0.15000000000000002\n"
     ]
    }
   ],
   "source": [
    "#we can use the chi2.min() then then .index of that lowest \n",
    "lowestchi2mod = np.min(chi2Omega_m)\n",
    "index = chi2Omega_m.index(lowestchi2mod)\n",
    "print(\"The index of the model with the lowest chi2:\",index)\n",
    "print(\"The value of Omega_m that corresponds with the index:\",Omega_mvec[index])"
   ]
  },
  {
   "cell_type": "markdown",
   "metadata": {},
   "source": [
    "#### Based on my answers a non-zero value of Dark Energy is supported by the data because the lowest chi squard value has an omega m value less than one which implies that omega_DE is not zero! because the sum of the two should be 1\n",
    "#### The larger the chi squared the worse/ less accurate"
   ]
  },
  {
   "cell_type": "markdown",
   "metadata": {},
   "source": [
    "#### Task 12 (optional, for Extra Credit)\n",
    "\n",
    "Repeat the $\\chi^2$ analysis for a two parameter model, with Omega_m varying between 0 and 1 in 0.05 intervals \n",
    "and H_0, the Hubble constant, varying between 50 and 80 km/s/Mpc in intervals of 5 km/s/Mpc.\n",
    "\n",
    "What are the values of Omega_m and H_0 that correspond to the lowest $\\chi^2$? How do your conclusions change in this case?\n",
    "\n"
   ]
  },
  {
   "cell_type": "code",
   "execution_count": 39,
   "metadata": {},
   "outputs": [
    {
     "name": "stdout",
     "output_type": "stream",
     "text": [
      "The Chi Squared Value is: 4843.449176737004 of Omega_m: 0.0 and of Hubble Constant: 50\n",
      "\n",
      "The Chi Squared Value is: 2062.635299882935 of Omega_m: 0.05 and of Hubble Constant: 55\n",
      "\n",
      "The Chi Squared Value is: 748.5410907668089 of Omega_m: 0.1 and of Hubble Constant: 60\n",
      "\n",
      "The Chi Squared Value is: 257.1778232626029 of Omega_m: 0.15000000000000002 and of Hubble Constant: 65\n",
      "\n",
      "The Chi Squared Value is: 245.73655415691104 of Omega_m: 0.2 and of Hubble Constant: 70\n",
      "\n",
      "The Chi Squared Value is: 517.9587926437198 of Omega_m: 0.25 and of Hubble Constant: 75\n",
      "\n",
      "The Chi Squared Value is: 956.5899044012422 of Omega_m: 0.30000000000000004 and of Hubble Constant: 80\n",
      "\n"
     ]
    }
   ],
   "source": [
    "# x = [1, 3, 4]\n",
    "# y = [5, 6, 7]\n",
    "\n",
    "# for i, j in zip(x,y):\n",
    "#     print(i,j)\n",
    "# zip! is awesome\n",
    "Hubblevary = np.arange(50,85,5)\n",
    "Hubblevary\n",
    "chi2Omg_Hubble = []\n",
    "for i,j  in zip (Omega_mvec,Hubblevary):\n",
    "    Chi2Hub = chi2(LumDistVect(redshift,i,j),sigma,supern)\n",
    "    chi2Omg_Hubble.append(Chi2Hub)\n",
    "    print('The Chi Squared Value is:',Chi2Hub,\"of Omega_m:\",i,\"and of Hubble Constant:\",j)\n",
    "    print()"
   ]
  },
  {
   "cell_type": "code",
   "execution_count": 47,
   "metadata": {},
   "outputs": [
    {
     "name": "stdout",
     "output_type": "stream",
     "text": [
      "The index of the model with the lowest chi squared of Omega_m and Hubble Constant is: 4\n",
      "The value of Omega_m and Hubble Constant that corresponds with the index: 0.2 70\n",
      "\n"
     ]
    }
   ],
   "source": [
    "lowchi2Omg_Hub = np.min(chi2Omg_Hubble)\n",
    "index_chi2 = chi2Omg_Hubble.index(lowchi2Omg_Hub)\n",
    "print(\"The index of the model with the lowest chi squared of (Omega_m and Hubble Constant) is:\",index_chi2)\n",
    "print(\"The value of Omega_m and Hubble Constant that corresponds with the index:\",Omega_mvec[index_chi2],Hubblevary[index_chi2])\n",
    "print()\n"
   ]
  },
  {
   "cell_type": "markdown",
   "metadata": {},
   "source": [
    "#### My conclusion is that the hubble constant should be at 70 because that gives us the lowest Chi Squared value. This still supports a non zero value because omega_m is less than 1 so there has to be dark energy and the specific value at which the chi squared value was the lowest was when the hubble constant was 70"
   ]
  }
 ],
 "metadata": {
  "kernelspec": {
   "display_name": "Python 3",
   "language": "python",
   "name": "python3"
  },
  "language_info": {
   "codemirror_mode": {
    "name": "ipython",
    "version": 3
   },
   "file_extension": ".py",
   "mimetype": "text/x-python",
   "name": "python",
   "nbconvert_exporter": "python",
   "pygments_lexer": "ipython3",
   "version": "3.7.1"
  }
 },
 "nbformat": 4,
 "nbformat_minor": 2
}
